{
 "cells": [
  {
   "cell_type": "markdown",
   "metadata": {},
   "source": [
    "# Capstone Project - The Battle of Neighborhoods (Week 1)"
   ]
  },
  {
   "cell_type": "markdown",
   "metadata": {},
   "source": [
    "### Clearly define a problem or an idea of your choice, where you would need to leverage the Foursquare location data to solve or execute. Remember that data science problems always target an audience and are meant to help a group of stakeholders solve a problem, so make sure that you explicitly describe your audience and why they would care about your problem.\n",
    "\n"
   ]
  },
  {
   "cell_type": "markdown",
   "metadata": {},
   "source": [
    "Introduction:\n",
    "\n",
    "The objective of this project is to determine which neighbourhood is the best place to open a chinese restaurant in Toronto by using Foursquare location data and clustering of venue information. Toronto has the second-highest percentage of constant foreign-born population among world cities after Miami, Florida. Its diversity can be proven in the ethnic neighbourhoods, like Chinatown, Corso Italia, Greektown and etc. Chinese is reported to be one of the most common ethnic origins who live in Toronto, and thus that would be a huge potential in launching a chinese restaurant. \n",
    "\n",
    "Target audience:\n",
    "This project is targeted towards the group who are looking for a place to open a Chinese restaurant. Hopefully this report will giving the target audience a better idea in opening a restaurant. \n",
    "\n"
   ]
  },
  {
   "cell_type": "markdown",
   "metadata": {},
   "source": [
    "#### Describe the data that you will be using to solve the problem or execute your idea. Remember that you will need to use the Foursquare location data to solve the problem or execute your idea. You can absolutely use other datasets in combination with the Foursquare location data. So make sure that you provide adequate explanation and discussion, with examples, of the data that you will be using, even if it is only Foursquare location data.\n",
    "\n"
   ]
  },
  {
   "cell_type": "markdown",
   "metadata": {},
   "source": [
    "Data Overview: \n",
    "The required data for this project will be a number of different online sources, such as the wikipedia page that would be provided a list of neighbourhoods in Toronto (https://en.wikipedia.org/wiki/List_of_postal_codes_of_Canada:_M), the geographical location of Toronto in order to retrieve the logitude and latitude information of the neighbourhoods, and lastly, the venue data information through Foursquare to define information of interest and to explore the best neighbourhood to open a chinese restaurant.    "
   ]
  }
 ],
 "metadata": {
  "kernelspec": {
   "display_name": "Python",
   "language": "python",
   "name": "conda-env-python-py"
  },
  "language_info": {
   "codemirror_mode": {
    "name": "ipython",
    "version": 3
   },
   "file_extension": ".py",
   "mimetype": "text/x-python",
   "name": "python",
   "nbconvert_exporter": "python",
   "pygments_lexer": "ipython3",
   "version": "3.6.12"
  }
 },
 "nbformat": 4,
 "nbformat_minor": 4
}
